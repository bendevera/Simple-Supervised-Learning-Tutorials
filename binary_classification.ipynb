{
 "cells": [
  {
   "cell_type": "markdown",
   "metadata": {
    "colab_type": "text",
    "id": "FYoas80Y2cPB"
   },
   "source": [
    "Binary Classification Example\n",
    "\n",
    "Data: IMDB dataset / 50,000 polorized reviews / 25,000 for training and testing each with 50% negative and 50% positive / preproccessed to be a sequence of numbers where each number corresponds to a word in the dictionary "
   ]
  },
  {
   "cell_type": "code",
   "execution_count": 2,
   "metadata": {
    "colab": {
     "base_uri": "https://localhost:8080/",
     "height": 51
    },
    "colab_type": "code",
    "id": "M88IFqR23CMc",
    "outputId": "3a833673-c0ea-49f1-984c-f1050f55c6e1"
   },
   "outputs": [
    {
     "name": "stdout",
     "output_type": "stream",
     "text": [
      "(25000,)\n",
      "(25000,)\n"
     ]
    }
   ],
   "source": [
    "from keras.datasets import imdb\n",
    "(train_data, train_labels), (test_data, test_labels) = imdb.load_data(num_words=10000)\n",
    "print(train_data.shape)\n",
    "print(test_data.shape)"
   ]
  },
  {
   "cell_type": "code",
   "execution_count": 3,
   "metadata": {
    "colab": {},
    "colab_type": "code",
    "id": "7U35gCP24xc0"
   },
   "outputs": [],
   "source": [
    "# encoding the integer sequences into a binary matrix\n",
    "import numpy as np \n",
    "\n",
    "# this function sets each review to an array of 10000 0s where each index of the array corresponds to a word\n",
    "# then cycles through and sets the indexes of the words that are in the review to 1\n",
    "def vectorize_sequences(sequences, dimension=10000):\n",
    "  results = np.zeros((len(sequences), dimension))\n",
    "  for i, sequence in enumerate(sequences):\n",
    "    results[i, sequence] = 1. \n",
    "  return results \n",
    "\n",
    "x_train = vectorize_sequences(train_data)\n",
    "x_test = vectorize_sequences(test_data)"
   ]
  },
  {
   "cell_type": "code",
   "execution_count": 5,
   "metadata": {
    "colab": {
     "base_uri": "https://localhost:8080/",
     "height": 34
    },
    "colab_type": "code",
    "id": "DJtXTb405uyo",
    "outputId": "168b9e4b-d833-48b5-d717-49b7aaa076c7"
   },
   "outputs": [
    {
     "name": "stdout",
     "output_type": "stream",
     "text": [
      "Labels changed from type: int64\n",
      "To type: float32\n"
     ]
    }
   ],
   "source": [
    "# vectorize the labels\n",
    "print('Labels changed from type:', train_labels.dtype)\n",
    "y_train = np.asarray(train_labels).astype('float32')\n",
    "y_test = np.asarray(test_labels).astype('float32')\n",
    "print('To type:', y_train.dtype)"
   ]
  },
  {
   "cell_type": "code",
   "execution_count": 7,
   "metadata": {
    "colab": {
     "base_uri": "https://localhost:8080/",
     "height": 139
    },
    "colab_type": "code",
    "id": "BHbrsPWl2UWy",
    "outputId": "6215952d-3cbe-4074-9ba9-7af8ebb214d9"
   },
   "outputs": [
    {
     "name": "stdout",
     "output_type": "stream",
     "text": [
      "_________________________________________________________________\n",
      "Layer (type)                 Output Shape              Param #   \n",
      "=================================================================\n",
      "dense_4 (Dense)              (None, 16)                160016    \n",
      "_________________________________________________________________\n",
      "dense_5 (Dense)              (None, 16)                272       \n",
      "_________________________________________________________________\n",
      "dense_6 (Dense)              (None, 1)                 17        \n",
      "=================================================================\n",
      "Total params: 160,305\n",
      "Trainable params: 160,305\n",
      "Non-trainable params: 0\n",
      "_________________________________________________________________\n"
     ]
    }
   ],
   "source": [
    "# two key architecture decisions about a stack of Dense layers like we'll use here\n",
    "# 1. how many layers to use\n",
    "# 2. how many hidden units to choose for each layer (the hidden units are the weights of the layer)\n",
    "# our input data has 10,000 features that will each have the number of hidden units inputted into the layer \n",
    "# we will use : \n",
    "# 2 intermediate layers with 16 units each (relu)\n",
    "# third layer that will output the scalar prediction regarding the sentiment of the current review (sigmoid activation)\n",
    "# relu (rectified linear unit) is a function meant to zero out negative values \n",
    "# sigmoid squashes arbitrary values into the [0, 1] interval to be read as a probobility \n",
    "# flow: Input (vectorized text) => Sequential( dense layer 1 (units=16) => dense layer 2 (units=16) => dense layer 3 (units=1) ) => probobility\n",
    "from keras import models \n",
    "from keras import layers \n",
    "\n",
    "model = models.Sequential()\n",
    "model.add(layers.Dense(16, activation='relu', input_shape=(10000,)))\n",
    "model.add(layers.Dense(16, activation='relu'))\n",
    "model.add(layers.Dense(1, activation='sigmoid'))\n",
    "model.summary()"
   ]
  },
  {
   "cell_type": "code",
   "execution_count": 8,
   "metadata": {
    "colab": {
     "base_uri": "https://localhost:8080/",
     "height": 156
    },
    "colab_type": "code",
    "id": "mLCBU53a90Ph",
    "outputId": "a4c3d4d3-5b8a-468a-ac14-402ef791265f"
   },
   "outputs": [],
   "source": [
    "# adding loss function, optimizer, and setting the metric that is being monitered to measure success\n",
    "model.compile(optimizer='rmsprop',\n",
    "              loss='binary_crossentropy',\n",
    "              metrics=['accuracy'])"
   ]
  },
  {
   "cell_type": "code",
   "execution_count": 9,
   "metadata": {
    "colab": {},
    "colab_type": "code",
    "id": "764BOxqR-c4Q"
   },
   "outputs": [],
   "source": [
    "# setting aside a validation set\n",
    "x_val = x_train[:10000]\n",
    "partial_x_train = x_train[10000:]\n",
    "\n",
    "y_val = y_train[:10000]\n",
    "partial_y_train = y_train[10000:]"
   ]
  },
  {
   "cell_type": "code",
   "execution_count": 10,
   "metadata": {
    "colab": {
     "base_uri": "https://localhost:8080/",
     "height": 1000
    },
    "colab_type": "code",
    "id": "J0yFLTo3-3xY",
    "outputId": "fb841d2b-b284-4921-d1f6-d16e7ee8add4"
   },
   "outputs": [
    {
     "name": "stdout",
     "output_type": "stream",
     "text": [
      "Train on 15000 samples, validate on 10000 samples\n",
      "Epoch 1/20\n",
      "15000/15000 [==============================] - 14s 956us/step - loss: 0.5376 - acc: 0.7765 - val_loss: 0.4008 - val_acc: 0.8666\n",
      "Epoch 2/20\n",
      "15000/15000 [==============================] - 10s 639us/step - loss: 0.3212 - acc: 0.8984 - val_loss: 0.3274 - val_acc: 0.8723\n",
      "Epoch 3/20\n",
      "15000/15000 [==============================] - 8s 503us/step - loss: 0.2349 - acc: 0.9241 - val_loss: 0.2857 - val_acc: 0.8863\n",
      "Epoch 4/20\n",
      "15000/15000 [==============================] - 6s 401us/step - loss: 0.1845 - acc: 0.9399 - val_loss: 0.2737 - val_acc: 0.8909\n",
      "Epoch 5/20\n",
      "15000/15000 [==============================] - 7s 436us/step - loss: 0.1532 - acc: 0.9508 - val_loss: 0.2990 - val_acc: 0.8809\n",
      "Epoch 6/20\n",
      "15000/15000 [==============================] - 7s 468us/step - loss: 0.1244 - acc: 0.9608 - val_loss: 0.2875 - val_acc: 0.8860\n",
      "Epoch 7/20\n",
      "15000/15000 [==============================] - 6s 382us/step - loss: 0.1090 - acc: 0.9651 - val_loss: 0.3035 - val_acc: 0.8841\n",
      "Epoch 8/20\n",
      "15000/15000 [==============================] - 5s 341us/step - loss: 0.0885 - acc: 0.9739 - val_loss: 0.3211 - val_acc: 0.8805\n",
      "Epoch 9/20\n",
      "15000/15000 [==============================] - 5s 315us/step - loss: 0.0721 - acc: 0.9812 - val_loss: 0.3416 - val_acc: 0.8813\n",
      "Epoch 10/20\n",
      "15000/15000 [==============================] - 5s 333us/step - loss: 0.0624 - acc: 0.9839 - val_loss: 0.3802 - val_acc: 0.8772\n",
      "Epoch 11/20\n",
      "15000/15000 [==============================] - 5s 302us/step - loss: 0.0503 - acc: 0.9884 - val_loss: 0.3945 - val_acc: 0.8737\n",
      "Epoch 12/20\n",
      "15000/15000 [==============================] - 4s 287us/step - loss: 0.0414 - acc: 0.9911 - val_loss: 0.4174 - val_acc: 0.8744\n",
      "Epoch 13/20\n",
      "15000/15000 [==============================] - 5s 353us/step - loss: 0.0356 - acc: 0.9932 - val_loss: 0.4704 - val_acc: 0.8732\n",
      "Epoch 14/20\n",
      "15000/15000 [==============================] - 6s 421us/step - loss: 0.0275 - acc: 0.9944 - val_loss: 0.4938 - val_acc: 0.8712\n",
      "Epoch 15/20\n",
      "15000/15000 [==============================] - 6s 428us/step - loss: 0.0196 - acc: 0.9969 - val_loss: 0.5659 - val_acc: 0.8558\n",
      "Epoch 16/20\n",
      "15000/15000 [==============================] - 4s 273us/step - loss: 0.0179 - acc: 0.9971 - val_loss: 0.5384 - val_acc: 0.8684\n",
      "Epoch 17/20\n",
      "15000/15000 [==============================] - 4s 278us/step - loss: 0.0142 - acc: 0.9982 - val_loss: 0.5705 - val_acc: 0.8687\n",
      "Epoch 18/20\n",
      "15000/15000 [==============================] - 4s 275us/step - loss: 0.0119 - acc: 0.9979 - val_loss: 0.6021 - val_acc: 0.8615\n",
      "Epoch 19/20\n",
      "15000/15000 [==============================] - 4s 263us/step - loss: 0.0069 - acc: 0.9997 - val_loss: 0.6491 - val_acc: 0.8659\n",
      "Epoch 20/20\n",
      "15000/15000 [==============================] - 5s 314us/step - loss: 0.0086 - acc: 0.9986 - val_loss: 0.6615 - val_acc: 0.8627\n"
     ]
    }
   ],
   "source": [
    "# training\n",
    "history = model.fit(partial_x_train,\n",
    "                    partial_y_train,\n",
    "                    epochs=20,\n",
    "                    batch_size=512,\n",
    "                    validation_data=(x_val, y_val))"
   ]
  },
  {
   "cell_type": "code",
   "execution_count": 12,
   "metadata": {
    "colab": {
     "base_uri": "https://localhost:8080/",
     "height": 279
    },
    "colab_type": "code",
    "id": "2zeOPogA_upN",
    "outputId": "67b0bdea-72b6-4c9e-9975-2c9a157f3687"
   },
   "outputs": [
    {
     "data": {
      "image/png": "[encoded data removed]",
      "text/plain": [
       "<Figure size 432x288 with 1 Axes>"
      ]
     },
     "metadata": {},
     "output_type": "display_data"
    }
   ],
   "source": [
    "# visualizing the results \n",
    "import matplotlib.pyplot as plt \n",
    "\n",
    "history_dict = history.history \n",
    "loss_values = history_dict['loss']\n",
    "val_loss_values = history_dict['val_loss']\n",
    "\n",
    "epochs = range(1, 21)\n",
    "\n",
    "plt.plot(epochs, loss_values, 'bo', label='Training Loss')\n",
    "plt.plot(epochs, val_loss_values, 'b', label='Validation Loss')\n",
    "plt.xlabel('Epochs')\n",
    "plt.ylabel('Loss')\n",
    "plt.legend()\n",
    "\n",
    "plt.show()"
   ]
  },
  {
   "cell_type": "code",
   "execution_count": 13,
   "metadata": {
    "colab": {
     "base_uri": "https://localhost:8080/",
     "height": 279
    },
    "colab_type": "code",
    "id": "UfjkOHm1A2O5",
    "outputId": "8b0a6623-b330-44af-e2fe-fb99cfa5ec70"
   },
   "outputs": [
    {
     "data": {
      "image/png": "[encoded data removed]",
      "text/plain": [
       "<Figure size 432x288 with 1 Axes>"
      ]
     },
     "metadata": {},
     "output_type": "display_data"
    }
   ],
   "source": [
    "plt.clf() #cleans the figure\n",
    "acc_values = history_dict['acc']\n",
    "val_acc_values = history_dict['val_acc']\n",
    "\n",
    "plt.plot(epochs, acc_values, 'bo', label=\"Training Accuracy\")\n",
    "plt.plot(epochs, val_acc_values, 'b', label='Validation Accuracy')\n",
    "plt.xlabel('Epochs')\n",
    "plt.ylabel('Accuracy')\n",
    "plt.legend()\n",
    "\n",
    "plt.show()"
   ]
  },
  {
   "cell_type": "code",
   "execution_count": 14,
   "metadata": {
    "colab": {
     "base_uri": "https://localhost:8080/",
     "height": 187
    },
    "colab_type": "code",
    "id": "PngiBGCaBpz0",
    "outputId": "de4775f4-d628-4d53-f63e-1223e2510b2f"
   },
   "outputs": [
    {
     "name": "stdout",
     "output_type": "stream",
     "text": [
      "Epoch 1/4\n",
      "25000/25000 [==============================] - 9s 368us/step - loss: 0.4735 - acc: 0.8213\n",
      "Epoch 2/4\n",
      "25000/25000 [==============================] - 8s 311us/step - loss: 0.2672 - acc: 0.9091\n",
      "Epoch 3/4\n",
      "25000/25000 [==============================] - 4s 167us/step - loss: 0.2033 - acc: 0.9285\n",
      "Epoch 4/4\n",
      "25000/25000 [==============================] - 6s 253us/step - loss: 0.1715 - acc: 0.9384\n",
      "25000/25000 [==============================] - 21s 843us/step\n",
      "[0.3116244181728363, 0.87588]\n"
     ]
    }
   ],
   "source": [
    "# we see from the graphs/results that overfitting really begins after epoch 4 so we'll cap it there to avoid major overfitting\n",
    "model = models.Sequential()\n",
    "model.add(layers.Dense(16, activation='relu', input_shape=(10000,)))\n",
    "model.add(layers.Dense(16, activation='relu'))\n",
    "model.add(layers.Dense(1, activation='sigmoid'))\n",
    "\n",
    "model.compile(optimizer='rmsprop',\n",
    "              loss='binary_crossentropy',\n",
    "              metrics=['accuracy'])\n",
    "\n",
    "model.fit(x_train, y_train, batch_size=512, epochs=4)\n",
    "results = model.evaluate(x_test, y_test)\n",
    "print(results)"
   ]
  },
  {
   "cell_type": "markdown",
   "metadata": {
    "colab_type": "text",
    "id": "g2o4FgvqDgUC"
   },
   "source": [
    "Great, simple example of binary classification. "
   ]
  }
 ],
 "metadata": {
  "colab": {
   "name": "ClassifyingMovieReviews.ipynb",
   "provenance": []
  },
  "kernelspec": {
   "display_name": "Python 3",
   "language": "python",
   "name": "python3"
  },
  "language_info": {
   "codemirror_mode": {
    "name": "ipython",
    "version": 3
   },
   "file_extension": ".py",
   "mimetype": "text/x-python",
   "name": "python",
   "nbconvert_exporter": "python",
   "pygments_lexer": "ipython3",
   "version": "3.6.5"
  }
 },
 "nbformat": 4,
 "nbformat_minor": 1
}
