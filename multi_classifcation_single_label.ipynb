{
 "cells": [
  {
   "cell_type": "markdown",
   "metadata": {
    "colab_type": "text",
    "id": "Q3d3vxeAEX9W"
   },
   "source": [
    "\n",
    "Multiclass Classification Example\n",
    "\n",
    "objective: build a network to classify Reuters newswires into 46 mutually exclusive topics / only classified as one so it makes this more explicitly a single-label, multiclass classification. \n",
    "\n",
    "dataset: reuters dataset of short newswires and their topics published in 1986"
   ]
  },
  {
   "cell_type": "code",
   "execution_count": 2,
   "metadata": {
    "colab": {
     "base_uri": "https://localhost:8080/",
     "height": 51
    },
    "colab_type": "code",
    "id": "wkkQoE2NDrOW",
    "outputId": "d3f20222-5780-49bc-a400-57a1b6ece0d8"
   },
   "outputs": [
    {
     "name": "stdout",
     "output_type": "stream",
     "text": [
      "(8982,)\n",
      "(2246,)\n"
     ]
    }
   ],
   "source": [
    "from keras.datasets import reuters\n",
    "\n",
    "(train_data, train_labels), (test_data, test_labels) = reuters.load_data(num_words=10000)\n",
    "print(train_data.shape)\n",
    "print(test_data.shape)"
   ]
  },
  {
   "cell_type": "code",
   "execution_count": 3,
   "metadata": {
    "colab": {},
    "colab_type": "code",
    "id": "EBhSgsv2FEvb"
   },
   "outputs": [],
   "source": [
    "# vectorize the data \n",
    "import numpy as np \n",
    "\n",
    "# exact same vectorization method as classifying iMDB reviews in the binary classification example \n",
    "# map the words used in the newswires to a list of 10000 1s and 0s where each index corresponds to a words\n",
    "def vectorize_sequences(sequences, dimension=10000):\n",
    "  results = np.zeros((len(sequences), dimension))\n",
    "  for i, sequence in enumerate(sequences):\n",
    "    results[i, sequence] = 1. \n",
    "  return results \n",
    "\n",
    "x_train = vectorize_sequences(train_data)\n",
    "x_test = vectorize_sequences(test_data)"
   ]
  },
  {
   "cell_type": "code",
   "execution_count": 5,
   "metadata": {
    "colab": {
     "base_uri": "https://localhost:8080/",
     "height": 34
    },
    "colab_type": "code",
    "id": "U8pTx1hdGhr6",
    "outputId": "10e45034-17d1-425f-f42d-891105a1f468"
   },
   "outputs": [],
   "source": [
    "# vectorize the labels\n",
    "# same idea as vectorizing the input data, each of the labels is a list of 46 where the index with 1 is the answer for that observation\n",
    "def to_one_hot(labels, dimension=46):\n",
    "  results = np.zeros((len(labels), dimension))\n",
    "  for i, label in enumerate(labels):\n",
    "    results[i, label] = 1. \n",
    "  return results \n",
    "\n",
    "one_hot_train_labels = to_one_hot(train_labels)\n",
    "one_hot_test_labels = to_one_hot(test_labels)\n",
    "\n",
    "# Built in way in Keras \n",
    "# from keras.utils.np_utils import to_categorical\n",
    "# one_hot_train_labels = to_categorical(train_labels)"
   ]
  },
  {
   "cell_type": "code",
   "execution_count": 7,
   "metadata": {
    "colab": {},
    "colab_type": "code",
    "id": "xndkzfcKHhbW"
   },
   "outputs": [
    {
     "name": "stdout",
     "output_type": "stream",
     "text": [
      "_________________________________________________________________\n",
      "Layer (type)                 Output Shape              Param #   \n",
      "=================================================================\n",
      "dense_4 (Dense)              (None, 64)                640064    \n",
      "_________________________________________________________________\n",
      "dense_5 (Dense)              (None, 64)                4160      \n",
      "_________________________________________________________________\n",
      "dense_6 (Dense)              (None, 46)                2990      \n",
      "=================================================================\n",
      "Total params: 647,214\n",
      "Trainable params: 647,214\n",
      "Non-trainable params: 0\n",
      "_________________________________________________________________\n"
     ]
    }
   ],
   "source": [
    "# building our model\n",
    "# we are using more hidden units (64 instead of 16) for these layers because we don't want a layer or each layer acting\n",
    "# as a bottleneck that drops off important information to learn each of the 46 categories we want the model\n",
    "# to classify. \n",
    "from keras import models\n",
    "from keras import layers\n",
    "\n",
    "model = models.Sequential() \n",
    "model.add(layers.Dense(64, activation='relu', input_shape=(10000,)))\n",
    "model.add(layers.Dense(64, activation='relu'))\n",
    "model.add(layers.Dense(46, activation='softmax'))\n",
    "\n",
    "# two things to note about this architecture:\n",
    "# 1. last layer is a dense layer of size 46. that means that for each input the output will be a 46-dimensional vector.\n",
    "# 2. last layer uses a softmax activation. we used this in the MNIST example. it means the network will output\n",
    "# a probobility distribution. the 46 scores will sum to 1. \n",
    "model.summary()"
   ]
  },
  {
   "cell_type": "code",
   "execution_count": 8,
   "metadata": {
    "colab": {},
    "colab_type": "code",
    "id": "HnwKAk04I5Gd"
   },
   "outputs": [],
   "source": [
    "model.compile(optimizer='rmsprop',\n",
    "              loss='categorical_crossentropy',\n",
    "              metrics=['accuracy'])"
   ]
  },
  {
   "cell_type": "code",
   "execution_count": 9,
   "metadata": {
    "colab": {
     "base_uri": "https://localhost:8080/",
     "height": 904
    },
    "colab_type": "code",
    "id": "unnyVIL1JEqy",
    "outputId": "d901313d-7514-4ecd-faf7-c462559103bb"
   },
   "outputs": [
    {
     "name": "stdout",
     "output_type": "stream",
     "text": [
      "Train on 7982 samples, validate on 1000 samples\n",
      "Epoch 1/20\n",
      "7982/7982 [==============================] - 4s 531us/step - loss: 2.4908 - acc: 0.4932 - val_loss: 1.6733 - val_acc: 0.6450\n",
      "Epoch 2/20\n",
      "7982/7982 [==============================] - 2s 304us/step - loss: 1.3833 - acc: 0.7058 - val_loss: 1.2740 - val_acc: 0.7190\n",
      "Epoch 3/20\n",
      "7982/7982 [==============================] - 2s 200us/step - loss: 1.0425 - acc: 0.7720 - val_loss: 1.1153 - val_acc: 0.7630\n",
      "Epoch 4/20\n",
      "7982/7982 [==============================] - 2s 190us/step - loss: 0.8209 - acc: 0.8292 - val_loss: 1.0200 - val_acc: 0.7740\n",
      "Epoch 5/20\n",
      "7982/7982 [==============================] - 2s 212us/step - loss: 0.6575 - acc: 0.8643 - val_loss: 0.9689 - val_acc: 0.7960\n",
      "Epoch 6/20\n",
      "7982/7982 [==============================] - 2s 212us/step - loss: 0.5239 - acc: 0.8935 - val_loss: 0.9205 - val_acc: 0.8100\n",
      "Epoch 7/20\n",
      "7982/7982 [==============================] - 2s 278us/step - loss: 0.4278 - acc: 0.9118 - val_loss: 0.9118 - val_acc: 0.8030\n",
      "Epoch 8/20\n",
      "7982/7982 [==============================] - 2s 247us/step - loss: 0.3488 - acc: 0.9276 - val_loss: 0.8959 - val_acc: 0.8170\n",
      "Epoch 9/20\n",
      "7982/7982 [==============================] - 2s 197us/step - loss: 0.2888 - acc: 0.9382 - val_loss: 0.9165 - val_acc: 0.8070\n",
      "Epoch 10/20\n",
      "7982/7982 [==============================] - 1s 182us/step - loss: 0.2449 - acc: 0.9450 - val_loss: 0.9126 - val_acc: 0.8120\n",
      "Epoch 11/20\n",
      "7982/7982 [==============================] - 2s 221us/step - loss: 0.2104 - acc: 0.9488 - val_loss: 0.9545 - val_acc: 0.8130\n",
      "Epoch 12/20\n",
      "7982/7982 [==============================] - 2s 230us/step - loss: 0.1882 - acc: 0.9523 - val_loss: 0.9614 - val_acc: 0.8030\n",
      "Epoch 13/20\n",
      "7982/7982 [==============================] - 1s 171us/step - loss: 0.1660 - acc: 0.9525 - val_loss: 0.9993 - val_acc: 0.7950\n",
      "Epoch 14/20\n",
      "7982/7982 [==============================] - 1s 187us/step - loss: 0.1534 - acc: 0.9543 - val_loss: 0.9784 - val_acc: 0.8050\n",
      "Epoch 15/20\n",
      "7982/7982 [==============================] - 1s 171us/step - loss: 0.1458 - acc: 0.9550 - val_loss: 1.0250 - val_acc: 0.7960\n",
      "Epoch 16/20\n",
      "7982/7982 [==============================] - 2s 188us/step - loss: 0.1333 - acc: 0.9555 - val_loss: 1.0413 - val_acc: 0.8010\n",
      "Epoch 17/20\n",
      "7982/7982 [==============================] - 2s 211us/step - loss: 0.1261 - acc: 0.9553 - val_loss: 1.0430 - val_acc: 0.7970\n",
      "Epoch 18/20\n",
      "7982/7982 [==============================] - 2s 281us/step - loss: 0.1171 - acc: 0.9557 - val_loss: 1.0384 - val_acc: 0.8120\n",
      "Epoch 19/20\n",
      "7982/7982 [==============================] - 2s 224us/step - loss: 0.1165 - acc: 0.9569 - val_loss: 1.0326 - val_acc: 0.8060\n",
      "Epoch 20/20\n",
      "7982/7982 [==============================] - 2s 206us/step - loss: 0.1140 - acc: 0.9580 - val_loss: 1.0472 - val_acc: 0.8040\n"
     ]
    }
   ],
   "source": [
    "# setting aside a validation set\n",
    "x_val = x_train[:1000]\n",
    "partial_x_train = x_train[1000:]\n",
    "\n",
    "y_val = one_hot_train_labels[:1000]\n",
    "partial_y_train = one_hot_train_labels[1000:]\n",
    "\n",
    "# fit the model \n",
    "history = model.fit(partial_x_train,\n",
    "                    partial_y_train,\n",
    "                    batch_size=512,\n",
    "                    epochs=20,\n",
    "                    validation_data=(x_val, y_val))"
   ]
  },
  {
   "cell_type": "code",
   "execution_count": 11,
   "metadata": {
    "colab": {
     "base_uri": "https://localhost:8080/",
     "height": 279
    },
    "colab_type": "code",
    "id": "T4PDWXvyJdpk",
    "outputId": "30ab2b92-8775-49f6-ae5a-4e4a4faefaec"
   },
   "outputs": [
    {
     "data": {
      "image/png": "[encoded data removed]",
      "text/plain": [
       "<Figure size 432x288 with 1 Axes>"
      ]
     },
     "metadata": {},
     "output_type": "display_data"
    }
   ],
   "source": [
    "# visualizing results \n",
    "import matplotlib.pyplot as plt \n",
    "\n",
    "loss = history.history['loss']\n",
    "val_loss = history.history['val_loss']\n",
    "\n",
    "epochs = range(1, len(loss) + 1)\n",
    "\n",
    "plt.plot(epochs, loss, 'bo', label='Training Loss')\n",
    "plt.plot(epochs, val_loss, 'b', label='Validation Loss')\n",
    "plt.xlabel('Epochs')\n",
    "plt.ylabel('Loss')\n",
    "plt.legend()\n",
    "\n",
    "plt.show()"
   ]
  },
  {
   "cell_type": "code",
   "execution_count": 0,
   "metadata": {
    "colab": {
     "base_uri": "https://localhost:8080/",
     "height": 279
    },
    "colab_type": "code",
    "id": "nqnMNouFL5kQ",
    "outputId": "9874e52a-c57c-4d27-e44f-9018ac107082"
   },
   "outputs": [
    {
     "data": {
      "image/png": "[encoded data removed]",
      "text/plain": [
       "<Figure size 432x288 with 1 Axes>"
      ]
     },
     "metadata": {
      "tags": []
     },
     "output_type": "display_data"
    }
   ],
   "source": [
    "plt.clf()\n",
    "\n",
    "acc = history.history['acc']\n",
    "val_acc = history.history['val_acc']\n",
    "\n",
    "plt.plot(epochs, acc, 'bo', label='Training Accuracy')\n",
    "plt.plot(epochs, val_acc, 'b', label='Validation Accuracy')\n",
    "plt.xlabel('Epochs')\n",
    "plt.ylabel('Accuracy')\n",
    "plt.legend()\n",
    "\n",
    "plt.show()"
   ]
  },
  {
   "cell_type": "code",
   "execution_count": 12,
   "metadata": {
    "colab": {
     "base_uri": "https://localhost:8080/",
     "height": 374
    },
    "colab_type": "code",
    "id": "cN9VUoGmMU_K",
    "outputId": "9fbe1215-7999-427c-a1e7-d83c571838e9"
   },
   "outputs": [
    {
     "name": "stdout",
     "output_type": "stream",
     "text": [
      "Train on 7982 samples, validate on 1000 samples\n",
      "Epoch 1/9\n",
      "7982/7982 [==============================] - 2s 304us/step - loss: 2.5359 - acc: 0.5226 - val_loss: 1.6818 - val_acc: 0.6530\n",
      "Epoch 2/9\n",
      "7982/7982 [==============================] - 2s 227us/step - loss: 1.3755 - acc: 0.7125 - val_loss: 1.2786 - val_acc: 0.7210\n",
      "Epoch 3/9\n",
      "7982/7982 [==============================] - 2s 205us/step - loss: 1.0173 - acc: 0.7793 - val_loss: 1.1347 - val_acc: 0.7500\n",
      "Epoch 4/9\n",
      "7982/7982 [==============================] - 2s 216us/step - loss: 0.8027 - acc: 0.8246 - val_loss: 1.0559 - val_acc: 0.7550\n",
      "Epoch 5/9\n",
      "7982/7982 [==============================] - 2s 298us/step - loss: 0.6445 - acc: 0.8621 - val_loss: 0.9787 - val_acc: 0.7920\n",
      "Epoch 6/9\n",
      "7982/7982 [==============================] - 2s 245us/step - loss: 0.5169 - acc: 0.8904 - val_loss: 0.9113 - val_acc: 0.8130\n",
      "Epoch 7/9\n",
      "7982/7982 [==============================] - 2s 198us/step - loss: 0.4159 - acc: 0.9137 - val_loss: 0.8950 - val_acc: 0.8220\n",
      "Epoch 8/9\n",
      "7982/7982 [==============================] - 2s 191us/step - loss: 0.3387 - acc: 0.9280 - val_loss: 0.8740 - val_acc: 0.8280\n",
      "Epoch 9/9\n",
      "7982/7982 [==============================] - 2s 231us/step - loss: 0.2811 - acc: 0.9366 - val_loss: 0.9369 - val_acc: 0.8030\n",
      "2246/2246 [==============================] - 1s 353us/step\n",
      "[1.0218824843477163, 0.7773820125196835]\n"
     ]
    }
   ],
   "source": [
    "# network begins to overfit after 9 epochs, will do new one with 9 and evaluate it \n",
    "\n",
    "model = models.Sequential()\n",
    "model.add(layers.Dense(64, activation='relu', input_shape=(10000,)))\n",
    "model.add(layers.Dense(64, activation='relu'))\n",
    "model.add(layers.Dense(46, activation='softmax'))\n",
    "\n",
    "model.compile(optimizer='rmsprop',\n",
    "              loss='categorical_crossentropy',\n",
    "              metrics=['accuracy'])\n",
    "\n",
    "model.fit(partial_x_train, partial_y_train, epochs=9, batch_size=512, validation_data=(x_val, y_val))\n",
    "\n",
    "results = model.evaluate(x_test, one_hot_test_labels)\n",
    "print(results)"
   ]
  },
  {
   "cell_type": "markdown",
   "metadata": {
    "colab_type": "text",
    "id": "ji3Y8vyZN8TH"
   },
   "source": [
    "Simple mulit-classification (single label) example that gets 78% of testing observations correctly classified! "
   ]
  }
 ],
 "metadata": {
  "colab": {
   "name": "ClassifyingNewswiresMulticlass.ipynb",
   "provenance": []
  },
  "kernelspec": {
   "display_name": "Python 3",
   "language": "python",
   "name": "python3"
  },
  "language_info": {
   "codemirror_mode": {
    "name": "ipython",
    "version": 3
   },
   "file_extension": ".py",
   "mimetype": "text/x-python",
   "name": "python",
   "nbconvert_exporter": "python",
   "pygments_lexer": "ipython3",
   "version": "3.6.5"
  }
 },
 "nbformat": 4,
 "nbformat_minor": 1
}
