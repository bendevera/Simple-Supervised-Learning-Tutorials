{
 "cells": [
  {
   "cell_type": "markdown",
   "metadata": {
    "colab_type": "text",
    "id": "OqZPkwzsuFvz"
   },
   "source": [
    "Regression: consists of predicting a continuous value instead of a discrete label. \n",
    "Note: don't confuse regression and the algorithm logistic regression. Confusingly, logistic regression is not a regression algorithm but a classification algorithm. \n",
    "dataset: boston housing price dataset / attempt to predict median price of homes in a give Boston suburb in the mid 1970s given: crime rate, property tax rate, etc. / 506 points in total (404 training and 102 testing) also the data points are in different scales (for example the crime rate is proportion out of 1 in some and 100 in others) "
   ]
  },
  {
   "cell_type": "code",
   "execution_count": 1,
   "metadata": {
    "colab": {
     "base_uri": "https://localhost:8080/",
     "height": 34
    },
    "colab_type": "code",
    "id": "8RM2Z1xXtx0U",
    "outputId": "00dc681f-046f-4f65-dee2-28532bc7e02e"
   },
   "outputs": [
    {
     "name": "stderr",
     "output_type": "stream",
     "text": [
      "/usr/local/lib/python3.6/site-packages/h5py/__init__.py:36: FutureWarning: Conversion of the second argument of issubdtype from `float` to `np.floating` is deprecated. In future, it will be treated as `np.float64 == np.dtype(float).type`.\n",
      "  from ._conv import register_converters as _register_converters\n",
      "Using TensorFlow backend.\n"
     ]
    },
    {
     "name": "stdout",
     "output_type": "stream",
     "text": [
      "(404, 13)\n",
      "(102, 13)\n"
     ]
    }
   ],
   "source": [
    "# loading the dataset\n",
    "from keras.datasets import boston_housing \n",
    "\n",
    "(train_data, train_labels), (test_data, test_labels) = boston_housing.load_data() \n",
    "print(train_data.shape)\n",
    "print(test_data.shape)"
   ]
  },
  {
   "cell_type": "code",
   "execution_count": 2,
   "metadata": {
    "colab": {},
    "colab_type": "code",
    "id": "zUXAp2t_wZRH"
   },
   "outputs": [],
   "source": [
    "# normalizing the data (pg 86 of DLWP by Francois Chollet has note on why test_data uses the mean and std of the training data)\n",
    "mean = train_data.mean(axis=0)\n",
    "train_data -= mean \n",
    "std = train_data.std(axis=0)\n",
    "train_data /= std \n",
    "\n",
    "test_data -= mean\n",
    "test_data /= std \n",
    "\n",
    "# Why normalize data? \n",
    "# the smaller values prevent really large values from distoring the predictions of the model. "
   ]
  },
  {
   "cell_type": "code",
   "execution_count": 3,
   "metadata": {
    "colab": {},
    "colab_type": "code",
    "id": "wFJTrLWXw0Za"
   },
   "outputs": [],
   "source": [
    "# building the network \n",
    "# because the data has so few samples we'll be using a smaller model to avoid overfitting\n",
    "from keras import layers \n",
    "from keras import models \n",
    "\n",
    "def build_model():\n",
    "  model = models.Sequential() \n",
    "\n",
    "  model.add(layers.Dense(64, activation='relu', input_shape=(train_data.shape[1],)))\n",
    "  model.add(layers.Dense(64, activation='relu'))\n",
    "  model.add(layers.Dense(1)) # no activation / typical setup for scalar regression / ensures range of output isn't constrained\n",
    "  model.compile(optimizer='rmsprop',\n",
    "                loss='mse',\n",
    "                metrics=['mae'])\n",
    "  return model"
   ]
  },
  {
   "cell_type": "markdown",
   "metadata": {
    "colab_type": "text",
    "id": "iHNEB8_IywCX"
   },
   "source": [
    "K-fold Validation:\n",
    "We don't want to split our training data into a validation set and training set because of the few amount of data points. A common alternative method is to use K-fold cross-validation. Consists of splitting the available data into K partitions (typically K=4 or 5), instantiating K identical models, and training each one on K-1 partions while evaluating on the remaining partition. The validation score is the average of the K validation scores obtained. "
   ]
  },
  {
   "cell_type": "code",
   "execution_count": 4,
   "metadata": {
    "colab": {
     "base_uri": "https://localhost:8080/",
     "height": 394
    },
    "colab_type": "code",
    "id": "KzFXlXsTyvmN",
    "outputId": "f5b7db4d-9b4d-4295-909e-e5892ca4c9a5"
   },
   "outputs": [
    {
     "name": "stdout",
     "output_type": "stream",
     "text": [
      "processing fold # 0\n",
      "processing fold # 1\n",
      "processing fold # 2\n",
      "processing fold # 3\n"
     ]
    },
    {
     "data": {
      "text/plain": [
       "[2.05821960869402, 2.232794442979416, 2.9645286172923475, 2.370896861104682]"
      ]
     },
     "execution_count": 4,
     "metadata": {},
     "output_type": "execute_result"
    }
   ],
   "source": [
    "import numpy as np \n",
    "\n",
    "# K-fold validations:\n",
    "# we will split the data into 4 partitions. [ ALL DATA ] => [Partition 1] [Partition 2] [Partition 3] [Partition 4]\n",
    "# train a model on each combination of 3 partitions while validating on the remaining partition: \n",
    "# variation 1 => train on partitions 1, 2, 3 and validate on 4\n",
    "# variation 2 => train on partitions 2, 3, 4 and validate on 1\n",
    "# variation 3 => train on partitions 3, 4, 1 and validate on 2\n",
    "# variation 4 => train on partitions 4, 1, 2 and validate on 3\n",
    "# We created the build_model function because we will be training a seperate model for each variation of data \"combos\"\n",
    "\n",
    "k=4\n",
    "num_val_samples = len(train_data) // k\n",
    "num_epochs = 100\n",
    "all_scores = []\n",
    "\n",
    "for i in range(k):\n",
    "  print('processing fold #', i)\n",
    "  val_data = train_data[i * num_val_samples: (i+1) *num_val_samples]\n",
    "  val_targets = train_labels[i * num_val_samples: (i+1) * num_val_samples]\n",
    "\n",
    "  partial_train_data = np.concatenate(\n",
    "      [train_data[:i*num_val_samples], \n",
    "       train_data[(i+1)*num_val_samples:]],\n",
    "       axis=0)\n",
    "  partial_train_targets = np.concatenate(\n",
    "      [train_labels[:i*num_val_samples],\n",
    "       train_labels[(i+1)*num_val_samples:]],\n",
    "       axis=0)\n",
    "  model = build_model()\n",
    "  model.fit(partial_train_data, partial_train_targets, epochs=num_epochs, batch_size=1, verbose=0)\n",
    "  val_mse, val_mae = model.evaluate(val_data, val_targets, verbose=0)\n",
    "  all_scores.append(val_mae)\n",
    "all_scores"
   ]
  },
  {
   "cell_type": "code",
   "execution_count": 5,
   "metadata": {
    "colab": {
     "base_uri": "https://localhost:8080/",
     "height": 85
    },
    "colab_type": "code",
    "id": "rRmw0P8O2l9g",
    "outputId": "da0d14b2-ae6e-4154-c840-a9fb203e6a0d"
   },
   "outputs": [
    {
     "name": "stdout",
     "output_type": "stream",
     "text": [
      "processing fold # 0\n",
      "processing fold # 1\n",
      "processing fold # 2\n",
      "processing fold # 3\n"
     ]
    }
   ],
   "source": [
    "# trying different epoch num and going to log history in different manner to see the effectiveness at the different\n",
    "# epoch nums\n",
    "num_epochs = 500\n",
    "all_mae_histories = []\n",
    "for i in range(k):\n",
    "  print('processing fold #', i)\n",
    "  val_data = train_data[i * num_val_samples: (i+1) *num_val_samples]\n",
    "  val_targets = train_labels[i * num_val_samples: (i+1) * num_val_samples]\n",
    "\n",
    "  partial_train_data = np.concatenate(\n",
    "      [train_data[:i*num_val_samples], \n",
    "       train_data[(i+1)*num_val_samples:]],\n",
    "       axis=0)\n",
    "  partial_train_targets = np.concatenate(\n",
    "      [train_labels[:i*num_val_samples],\n",
    "       train_labels[(i+1)*num_val_samples:]],\n",
    "       axis=0)\n",
    "  model = build_model()\n",
    "  history = model.fit(partial_train_data, partial_train_targets, validation_data=(val_data, val_targets), epochs=num_epochs, batch_size=1, verbose=0)\n",
    "  mae_history = history.history['val_mean_absolute_error']\n",
    "  all_mae_histories.append(mae_history)\n",
    "average_mae_history = [np.mean([x[i] for x in all_mae_histories]) for i in range(num_epochs)]"
   ]
  },
  {
   "cell_type": "code",
   "execution_count": 6,
   "metadata": {
    "colab": {
     "base_uri": "https://localhost:8080/",
     "height": 279
    },
    "colab_type": "code",
    "id": "vwQAzP9F3iMT",
    "outputId": "a8bd7c92-4dd4-4a0f-9ce3-14e08b119a74"
   },
   "outputs": [
    {
     "data": {
      "text/plain": [
       "<Figure size 640x480 with 1 Axes>"
      ]
     },
     "metadata": {},
     "output_type": "display_data"
    }
   ],
   "source": [
    "# visualizing data \n",
    "import matplotlib.pyplot as plt \n",
    "\n",
    "plt.plot(range(1, len(average_mae_history)+ 1), average_mae_history)\n",
    "plt.xlabel('Epochs')\n",
    "plt.ylabel('Validation MAE')\n",
    "plt.show()"
   ]
  },
  {
   "cell_type": "code",
   "execution_count": 7,
   "metadata": {
    "colab": {
     "base_uri": "https://localhost:8080/",
     "height": 279
    },
    "colab_type": "code",
    "id": "r1wE_sYP33wF",
    "outputId": "13e412cc-530b-47f3-fae8-5114261ea749"
   },
   "outputs": [
    {
     "data": {
      "image/png": "[encoded data removed]",
      "text/plain": [
       "<Figure size 432x288 with 1 Axes>"
      ]
     },
     "metadata": {},
     "output_type": "display_data"
    }
   ],
   "source": [
    "# making plot more readable\n",
    "def smooth_curve(points, factor=.9):\n",
    "  smoothed_points = []\n",
    "  for point in points:\n",
    "    if smoothed_points:\n",
    "      previous = smoothed_points[-1]\n",
    "      smoothed_points.append(previous * factor + point * (1-factor))\n",
    "    else:\n",
    "      smoothed_points.append(point)\n",
    "  return smoothed_points\n",
    "\n",
    "smooth_mae_history = smooth_curve(average_mae_history[10:])\n",
    "\n",
    "plt.plot(range(1, len(smooth_mae_history)+1), smooth_mae_history)\n",
    "plt.xlabel('Epochs')\n",
    "plt.ylabel('Validation MAE')\n",
    "plt.show()"
   ]
  },
  {
   "cell_type": "code",
   "execution_count": 8,
   "metadata": {
    "colab": {
     "base_uri": "https://localhost:8080/",
     "height": 51
    },
    "colab_type": "code",
    "id": "RS1VcRAm4pVH",
    "outputId": "0bca1dc1-665d-47fc-a6fa-d3c047444182"
   },
   "outputs": [
    {
     "name": "stdout",
     "output_type": "stream",
     "text": [
      "102/102 [==============================] - 0s 2ms/step\n"
     ]
    },
    {
     "data": {
      "text/plain": [
       "2.676421287013035"
      ]
     },
     "execution_count": 8,
     "metadata": {},
     "output_type": "execute_result"
    }
   ],
   "source": [
    "model = build_model()\n",
    "model.fit(train_data, train_labels, epochs=80, batch_size=16, verbose=0)\n",
    "test_mse_score, test_mae_score = model.evaluate(test_data, test_labels)\n",
    "test_mae_score"
   ]
  },
  {
   "cell_type": "markdown",
   "metadata": {
    "colab_type": "text",
    "id": "_QZ4_dJb5FY1"
   },
   "source": [
    "Final notes:\n",
    "*   regression uses different loss functions, Mean Squared Error (MSE) \n",
    "*   same with metrics, mean absolute error (MAE) is common with regression\n",
    "*   when features in the input data have values in different ranges, each feature should be scaled independently as a preproccessing step \n",
    "*   when little data is avaiable k-fold validaiton is a great way to reliably evalaute the model \n",
    "*   with little data it is common to use a small model to avoid overfitting \n",
    "\n",
    "Wrapping up on pg 91"
   ]
  }
 ],
 "metadata": {
  "colab": {
   "name": "PredictingHousePricesRegression.ipynb",
   "provenance": []
  },
  "kernelspec": {
   "display_name": "Python 3",
   "language": "python",
   "name": "python3"
  },
  "language_info": {
   "codemirror_mode": {
    "name": "ipython",
    "version": 3
   },
   "file_extension": ".py",
   "mimetype": "text/x-python",
   "name": "python",
   "nbconvert_exporter": "python",
   "pygments_lexer": "ipython3",
   "version": "3.6.5"
  }
 },
 "nbformat": 4,
 "nbformat_minor": 1
}
